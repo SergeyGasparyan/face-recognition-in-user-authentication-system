{
 "cells": [
  {
   "cell_type": "code",
   "execution_count": null,
   "id": "b9571b34",
   "metadata": {},
   "outputs": [],
   "source": [
    "import cv2\n",
    "import shutil\n",
    "from pathlib import Path\n",
    "import matplotlib.pyplot as plt\n",
    "import numpy as np\n",
    "import imgaug.augmenters as iaa"
   ]
  },
  {
   "cell_type": "code",
   "execution_count": null,
   "id": "8bafd921",
   "metadata": {},
   "outputs": [],
   "source": [
    "!pip install pip install imgaug"
   ]
  },
  {
   "cell_type": "code",
   "execution_count": null,
   "id": "aefad265",
   "metadata": {},
   "outputs": [],
   "source": [
    "!pip install matplotlib"
   ]
  },
  {
   "cell_type": "code",
   "execution_count": null,
   "id": "90858c16",
   "metadata": {},
   "outputs": [],
   "source": [
    "new_data_path = Path(\"data/custom_camera_data\")\n",
    "new_data_path.mkdir(exist_ok=True)\n",
    "\n",
    "(new_data_path / \"train\").mkdir(exist_ok=True)  # query and gallery are the same as the train"
   ]
  },
  {
   "cell_type": "code",
   "execution_count": null,
   "id": "1f29c454",
   "metadata": {},
   "outputs": [],
   "source": [
    "extracted_faces = list(Path(\"data/camera_captures/\").glob(\"*\"))\n",
    "\n",
    "people_num = len(extracted_faces)\n",
    "people_num"
   ]
  },
  {
   "cell_type": "code",
   "execution_count": null,
   "id": "11e74225",
   "metadata": {},
   "outputs": [],
   "source": [
    "def augment_images(img, count):\n",
    "    imgs = [img]\n",
    "\n",
    "    for i in range(count):\n",
    "        aug = iaa.Sequential([])\n",
    "\n",
    "        rand_number = np.random.randint(0, 101)\n",
    "        if rand_number < 33:\n",
    "            aug.append(iaa.AdditiveGaussianNoise(loc=0, scale=(0.01*255, 0.08*255)))\n",
    "        elif rand_number < 70:\n",
    "            aug.append(iaa.AverageBlur(k=(3, 3)))\n",
    "\n",
    "        rand_number = np.random.randint(0, 101)\n",
    "        if rand_number < 30:\n",
    "            aug.append(iaa.Multiply((0.7, 1.2)))\n",
    "        elif rand_number < 70:\n",
    "            aug.append(iaa.GammaContrast((1, 1.6)))            \n",
    "            \n",
    "        rand_number = np.random.randint(0, 101)\n",
    "        if rand_number < 33:\n",
    "            aug.append(iaa.ChangeColorTemperature((1100, 10000)))\n",
    "        elif rand_number < 66:\n",
    "            aug.append(iaa.MultiplyHueAndSaturation((0.5, 1.5), per_channel=True))           \n",
    "                  \n",
    "        rand_number = np.random.randint(0, 101)\n",
    "        if rand_number < 33:\n",
    "            aug.append(iaa.CoarseDropout(0.015, size_percent=0.1, per_channel=0.5))\n",
    "        elif rand_number < 66:\n",
    "            aug.append(iaa.SaltAndPepper(0.05, per_channel=True))\n",
    "            \n",
    "        rand_number = np.random.randint(0, 101)\n",
    "        if rand_number < 50:\n",
    "            aug.append(iaa.pillike.FilterEdgeEnhanceMore())\n",
    "\n",
    "        aug.append(iaa.Fliplr(0.5))\n",
    "\n",
    "        img_aug = aug(image=img)\n",
    "        imgs.append(img_aug)\n",
    "\n",
    "    return imgs"
   ]
  },
  {
   "cell_type": "code",
   "execution_count": null,
   "id": "492643ee",
   "metadata": {},
   "outputs": [],
   "source": [
    "pic_paths = list(extracted_faces[0].glob(\"*png\"))\n",
    "\n",
    "img = cv2.imread(pic_paths[0].as_posix())\n",
    "img.shape\n",
    "\n",
    "augmented_imgs = augment_images(img, count=7)\n",
    "\n",
    "for img in augmented_imgs:\n",
    "    plt.imshow(img[..., ::-1])\n",
    "    plt.show()"
   ]
  },
  {
   "cell_type": "code",
   "execution_count": null,
   "id": "ef83f51a",
   "metadata": {},
   "outputs": [],
   "source": [
    "# add augmentations\n",
    "counter = 0\n",
    "\n",
    "for i, pid in enumerate(extracted_faces):\n",
    "    pic_paths = list(pid.glob(\"*png\"))\n",
    "    for path in pic_paths:\n",
    "        img = cv2.imread(path.as_posix())\n",
    "        rand_number = np.random.randint(5, 11)\n",
    "        \n",
    "        augmented_imgs = augment_images(img, count=rand_number)\n",
    "        for aug_img in augmented_imgs:\n",
    "            dst = new_data_path / \"train\" / f\"p{i}_c0_{counter}.png\"\n",
    "            assert(aug_img.shape[0] == 250 and aug_img.shape[1] == 250)\n",
    "            cv2.imwrite(dst.as_posix(), aug_img)\n",
    "            counter += 1\n",
    "print(\"done\")"
   ]
  },
  {
   "cell_type": "code",
   "execution_count": null,
   "id": "5cd22688",
   "metadata": {},
   "outputs": [],
   "source": []
  },
  {
   "cell_type": "code",
   "execution_count": null,
   "id": "52574d0b",
   "metadata": {},
   "outputs": [],
   "source": [
    "new_data_path = Path(\"data/face_data_custom\")\n",
    "new_data_path.mkdir(exist_ok=True)\n",
    "\n",
    "(new_data_path / \"train\").mkdir(exist_ok=True)\n",
    "(new_data_path / \"query\").mkdir(exist_ok=True)\n",
    "(new_data_path / \"gallery\").mkdir(exist_ok=True)"
   ]
  },
  {
   "cell_type": "code",
   "execution_count": null,
   "id": "9d0d445f",
   "metadata": {},
   "outputs": [],
   "source": [
    "extracted_faces = list(Path(\"data/Extracted Faces/\").glob(\"*\"))\n",
    "\n",
    "people_num = len(extracted_faces)\n",
    "people_num"
   ]
  },
  {
   "cell_type": "code",
   "execution_count": null,
   "id": "f95a87fb",
   "metadata": {},
   "outputs": [],
   "source": [
    "train_perc = 0.75\n",
    "train_data_len = int(people_num*train_perc)\n",
    "train_data = extracted_faces[:train_data_len]"
   ]
  },
  {
   "cell_type": "code",
   "execution_count": null,
   "id": "ba8ec3f4",
   "metadata": {},
   "outputs": [],
   "source": [
    "counter = 0\n",
    "for i, pid in enumerate(train_data):\n",
    "    pic_paths = list(pid.glob(\"*jpg\"))\n",
    "    for path in pic_paths:\n",
    "        src = path\n",
    "        dst = new_data_path / \"train\" / f\"p{i}_c0_{counter}.jpg\"\n",
    "        counter += 1\n",
    "        shutil.copy(src, dst)"
   ]
  },
  {
   "cell_type": "code",
   "execution_count": null,
   "id": "62937d36",
   "metadata": {},
   "outputs": [],
   "source": [
    "test_data = extracted_faces[train_data_len:]"
   ]
  },
  {
   "cell_type": "code",
   "execution_count": null,
   "id": "0f0335e8",
   "metadata": {},
   "outputs": [],
   "source": [
    "for j, pid in enumerate(test_data, 1):\n",
    "    pic_paths = list(pid.glob(\"*jpg\"))\n",
    "    idx = len(pic_paths) // 2\n",
    "\n",
    "    for path in pic_paths[:idx]:\n",
    "        src = path\n",
    "        dst = new_data_path / \"query\" / f\"p{i+j}_c0_{counter}.jpg\"\n",
    "        counter += 1\n",
    "        shutil.copy(src, dst)\n",
    "        \n",
    "    for path in pic_paths[idx:]:\n",
    "        src = path\n",
    "        dst = new_data_path / \"gallery\" / f\"p{i+j}_c0_{counter}.jpg\"\n",
    "        counter += 1\n",
    "        shutil.copy(src, dst)"
   ]
  },
  {
   "cell_type": "code",
   "execution_count": null,
   "id": "daf22cca",
   "metadata": {},
   "outputs": [],
   "source": []
  },
  {
   "cell_type": "code",
   "execution_count": null,
   "id": "1b3240c9",
   "metadata": {},
   "outputs": [],
   "source": [
    "import torchreid\n",
    "from glob import glob\n",
    "import os.path as osp"
   ]
  },
  {
   "cell_type": "code",
   "execution_count": null,
   "id": "e3fe9830",
   "metadata": {},
   "outputs": [],
   "source": [
    "class NewDataset(torchreid.data.datasets.ImageDataset):\n",
    "    dataset_dir = 'data/custom_camera_data/'\n",
    "\n",
    "    def __init__(self, **kwargs):\n",
    "        self.train_dir = self.dataset_dir + \"train/\"  \n",
    "        self.query_dir = self.dataset_dir + \"train/\"\n",
    "        self.gallery_dir = self.dataset_dir + \"train/\"\n",
    "        print(self.train_dir)\n",
    "        input(1)\n",
    "        \n",
    "        train = self.process_dir(self.train_dir, isQuery=False)\n",
    "        query = self.process_dir(self.query_dir, isQuery=True)\n",
    "        gallery = self.process_dir(self.gallery_dir, isQuery=False)\n",
    "        input(2)\n",
    "        super(NewDataset, self).__init__(train, query, gallery, **kwargs)\n",
    "        \n",
    "    def process_dir(self, dir_path, isQuery):\n",
    "        img_paths = glob(osp.join(dir_path, '*.jpg'))\n",
    "        \n",
    "        data = []\n",
    "        for img_path in img_paths:\n",
    "            img_name = img_path.split('/')[-1]\n",
    "            name_splitted = img_name.split('_')\n",
    "            pid = int(name_splitted[0][1:])\n",
    "            camid = int(name_splitted[1][1:])\n",
    "\n",
    "            if isQuery:\n",
    "                camid += 10  # index starts from 0\n",
    "            input(img_path, pid, camid)\n",
    "            data.append((img_path, pid, camid))\n",
    "\n",
    "        return data"
   ]
  },
  {
   "cell_type": "code",
   "execution_count": null,
   "id": "dc3d8fb8",
   "metadata": {
    "scrolled": true
   },
   "outputs": [],
   "source": [
    "dataset = NewDataset()"
   ]
  },
  {
   "cell_type": "code",
   "execution_count": null,
   "id": "a2451dac",
   "metadata": {},
   "outputs": [],
   "source": [
    "from pathlib import Path"
   ]
  },
  {
   "cell_type": "code",
   "execution_count": null,
   "id": "8093daad",
   "metadata": {},
   "outputs": [],
   "source": [
    "x = Path(\"data/custom_camera_data/train/\")"
   ]
  },
  {
   "cell_type": "code",
   "execution_count": null,
   "id": "f2c639b1",
   "metadata": {},
   "outputs": [],
   "source": [
    "list(x.glob(\"*\"))"
   ]
  },
  {
   "cell_type": "code",
   "execution_count": null,
   "id": "5e3b0a6b",
   "metadata": {},
   "outputs": [],
   "source": []
  }
 ],
 "metadata": {
  "kernelspec": {
   "display_name": "Python 3 (ipykernel)",
   "language": "python",
   "name": "python3"
  },
  "language_info": {
   "codemirror_mode": {
    "name": "ipython",
    "version": 3
   },
   "file_extension": ".py",
   "mimetype": "text/x-python",
   "name": "python",
   "nbconvert_exporter": "python",
   "pygments_lexer": "ipython3",
   "version": "3.7.16"
  }
 },
 "nbformat": 4,
 "nbformat_minor": 5
}
